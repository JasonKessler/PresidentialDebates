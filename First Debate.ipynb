{
 "cells": [
  {
   "cell_type": "code",
   "execution_count": 1,
   "metadata": {},
   "outputs": [
    {
     "data": {
      "text/html": [
       "<style>.container { width:98% !important; }</style>"
      ],
      "text/plain": [
       "<IPython.core.display.HTML object>"
      ]
     },
     "metadata": {},
     "output_type": "display_data"
    }
   ],
   "source": [
    "import requests\n",
    "from bs4 import BeautifulSoup\n",
    "import pandas as pd\n",
    "import scattertext as st\n",
    "import spacy\n",
    "from IPython.display import IFrame\n",
    "from IPython.core.display import display, HTML\n",
    "display(HTML(\"<style>.container { width:98% !important; }</style>\"))"
   ]
  },
  {
   "cell_type": "markdown",
   "metadata": {},
   "source": [
    "# Scrape and parse the debate transcript from rev.com"
   ]
  },
  {
   "cell_type": "code",
   "execution_count": 2,
   "metadata": {},
   "outputs": [],
   "source": [
    "url = 'https://www.rev.com/blog/transcripts/donald-trump-joe-biden-1st-presidential-debate-transcript-2020'\n",
    "soup = BeautifulSoup(requests.get(url).content, 'html.parser')\n",
    "data = []\n",
    "for p in soup.find('div', attrs={'class': 'fl-callout-content'}).findAll('p'):\n",
    "    raw = p.text.strip()\n",
    "    if raw == '': continue\n",
    "    content = '\\n'.join(raw.split('\\n')[1:])\n",
    "    speaker = raw.split('\\n')[0].split(':')[0]\n",
    "    time = raw.split('\\n')[0].split(':', 1)[1].strip()\n",
    "    time = time[1:-1]\n",
    "    if len(time) == 5: \n",
    "        time = '00:' + time\n",
    "    data.append({'Speaker': speaker, 'Time': time, 'Text': content})\n",
    "df = pd.DataFrame(data).assign(\n",
    "    Name = lambda df: df['Speaker'].apply(lambda x: {'P': 'Trump', 'V': 'Biden', 'C': 'Wallace'}.get(x[0])),\n",
    "    Parse = lambda df: df.Text.apply(spacy.load('en'))\n",
    ")"
   ]
  },
  {
   "cell_type": "markdown",
   "metadata": {},
   "source": [
    "# Comparison of lemmas used by President Trump and Vice President Biden\n",
    "The chart below plots lemmas (bsse word forms) used by the candidates. The higher a lemma is on the plot, the more \n",
    "it was used by Vice President Biden, and the further to the right, the more it was used by President Trump. Click \n",
    "a word or search the chart to see how it was used in context.\n",
    "\n",
    "We can see that Vice President Biden uses the word Vote, particularly in the imperative mood, much more than \n",
    "President Trump. He speaks in terms of truth, using forms of the word \"fact\" \"true\", and \"lie\" much more than President\n",
    "Trump. He also speaks much more about the Coronavirus and COVID than the president.\n",
    "\n",
    "President Trump refers to the Vice President as \"Joe\" disproportionately, while Vice President Biden only used \"Donald\"\n",
    "once. Instead, Vice President Biden simply refers to President Trump as \"he\". Perhaps the former Vice President is \n",
    "following the old political rule of never naming one's opponent."
   ]
  },
  {
   "cell_type": "code",
   "execution_count": 3,
   "metadata": {},
   "outputs": [
    {
     "data": {
      "text/html": [
       "\n",
       "        <iframe\n",
       "            width=\"1300\"\n",
       "            height=\"700\"\n",
       "            src=\"bidenvstrump.html\"\n",
       "            frameborder=\"0\"\n",
       "            allowfullscreen\n",
       "        ></iframe>\n",
       "        "
      ],
      "text/plain": [
       "<IPython.lib.display.IFrame at 0x123e07910>"
      ]
     },
     "execution_count": 3,
     "metadata": {},
     "output_type": "execute_result"
    }
   ],
   "source": [
    "corpus = st.CorpusFromParsedDocuments(\n",
    "    df[df.Name.isin(['Biden','Trump'])],\n",
    "    category_col='Name',\n",
    "    parsed_col='Parse',\n",
    "    feats_from_spacy_doc=st.FeatsFromSpacyDoc(use_lemmas=True)\n",
    ").build().get_stoplisted_unigram_corpus()\n",
    "\n",
    "html = st.produce_scattertext_explorer(\n",
    "    corpus,\n",
    "    category='Biden',\n",
    "    not_category_name='Trump',\n",
    "    minimum_term_frequency=0, \n",
    "    pmi_threshold_coefficient=0,\n",
    "    width_in_pixels=1000, \n",
    "    metadata=corpus.get_df()['Speaker'] + ': ' + corpus.get_df()['Time'],\n",
    "    transform=st.Scalers.dense_rank,\n",
    "    use_full_doc=True\n",
    "\n",
    ")\n",
    "fn = 'bidenvstrump.html'\n",
    "open(fn, 'wb').write(('<h2>Lemmas used by Biden and Trump in the First Debate</h2>' + html).encode('utf-8'))\n",
    "IFrame(src=fn, width = 1300, height=700)"
   ]
  },
  {
   "cell_type": "markdown",
   "metadata": {},
   "source": [
    "# Comparison of words used by President Trump and Vice President Biden\n",
    "Filling in the gaps from the above example, we can see Vice President Biden uses \"he\" and especially \"his\" far more \n",
    "than President Trump. \n",
    "\n",
    "President Trump uses the word \"I\" far more than the former VP, by about a 2:1 ratio, which psycholinguits (Kacewicz 2014) have found\n",
    "to be a mark of lower status.\n",
    "\n",
    "Kacewicz, E., Pennebaker, J. W., Davis, M., Jeon, M., & Graesser, A. C. (2014). Pronoun use reflects standings in social hierarchies. Journal of Language and Social Psychology, 33(2), 125–143. https://doi.org/10.1177/0261927X13502654"
   ]
  },
  {
   "cell_type": "code",
   "execution_count": 4,
   "metadata": {},
   "outputs": [
    {
     "data": {
      "text/html": [
       "\n",
       "        <iframe\n",
       "            width=\"1300\"\n",
       "            height=\"700\"\n",
       "            src=\"bidenvstrump.html\"\n",
       "            frameborder=\"0\"\n",
       "            allowfullscreen\n",
       "        ></iframe>\n",
       "        "
      ],
      "text/plain": [
       "<IPython.lib.display.IFrame at 0x105459f10>"
      ]
     },
     "execution_count": 4,
     "metadata": {},
     "output_type": "execute_result"
    }
   ],
   "source": [
    "corpus = st.CorpusFromParsedDocuments(\n",
    "    df[df.Name.isin(['Biden','Trump'])],\n",
    "    category_col='Name',\n",
    "    parsed_col='Parse',\n",
    ").build().get_unigram_corpus()\n",
    "\n",
    "html = st.produce_scattertext_explorer(\n",
    "    corpus,\n",
    "    category='Biden',\n",
    "    not_category_name='Trump',\n",
    "    minimum_term_frequency=0, \n",
    "    pmi_threshold_coefficient=0,\n",
    "    width_in_pixels=1000, \n",
    "    metadata=corpus.get_df()['Speaker'] + ': ' + corpus.get_df()['Time'],\n",
    "    transform=st.Scalers.dense_rank,\n",
    "    use_full_doc=True\n",
    "\n",
    ")\n",
    "open('bidenvstrumpwords.html', 'w').write(html)\n",
    "open(fn, 'wb').write(('<h2>Words used by Biden and Trump in the First Debate</h2>' + html).encode('utf-8'))\n",
    "IFrame(src=fn, width = 1300, height=700)"
   ]
  },
  {
   "cell_type": "code",
   "execution_count": 5,
   "metadata": {},
   "outputs": [
    {
     "data": {
      "text/html": [
       "\n",
       "        <iframe\n",
       "            width=\"1300\"\n",
       "            height=\"700\"\n",
       "            src=\"demo_semiotic.html\"\n",
       "            frameborder=\"0\"\n",
       "            allowfullscreen\n",
       "        ></iframe>\n",
       "        "
      ],
      "text/plain": [
       "<IPython.lib.display.IFrame at 0x10764c410>"
      ]
     },
     "execution_count": 5,
     "metadata": {},
     "output_type": "execute_result"
    }
   ],
   "source": [
    "corpus = st.CorpusFromParsedDocuments(\n",
    "    df,\n",
    "    category_col='Name',\n",
    "    parsed_col='Parse',\n",
    "    feats_from_spacy_doc=st.FeatsFromSpacyDoc(use_lemmas=True)    \n",
    ").build().get_stoplisted_unigram_corpus()\n",
    "\n",
    "semiotic_square = st.SemioticSquare(\n",
    "    corpus,\n",
    "    category_a='Biden',\n",
    "    category_b='Trump',\n",
    "    neutral_categories=['Wallace'],\n",
    "    scorer=st.RankDifference(),\n",
    "    labels={'not_a_and_not_b': 'Wallace',\n",
    "            'a_and_b': 'Candidates',\n",
    "            'a_and_not_b': 'Biden',\n",
    "            'b_and_not_a': 'Trump',\n",
    "            'a':'',\n",
    "            'b':'',\n",
    "            'not_a':'',\n",
    "            'not_b':''}\n",
    ")\n",
    "\n",
    "html = st.produce_semiotic_square_explorer(semiotic_square,\n",
    "                                           category_name='Biden',\n",
    "                                           not_category_name='Trump',\n",
    "                                           x_label='Biden-Trump',\n",
    "                                           y_label='Candidate-Moderator',\n",
    "                                           num_terms_semiotic_square=5,\n",
    "                                           neutral_category_name='Wallace',\n",
    "                                           metadata=df['Speaker'] + ' ' + df['Time'])\n",
    "\n",
    "fn = 'demo_semiotic.html'\n",
    "open(fn, 'wb').write(html.encode('utf-8'))\n",
    "IFrame(src=fn, width = 1300, height=700)"
   ]
  },
  {
   "cell_type": "code",
   "execution_count": 6,
   "metadata": {},
   "outputs": [
    {
     "name": "stdout",
     "output_type": "stream",
     "text": [
      "Converted 00_core.ipynb.\n",
      "Converted First Debate.ipynb.\n",
      "Converted index.ipynb.\n"
     ]
    }
   ],
   "source": [
    "from nbdev.export import *\n",
    "notebook2script()"
   ]
  },
  {
   "cell_type": "code",
   "execution_count": null,
   "metadata": {},
   "outputs": [],
   "source": []
  }
 ],
 "metadata": {
  "kernelspec": {
   "display_name": "py38",
   "language": "python",
   "name": "py38"
  },
  "language_info": {
   "codemirror_mode": {
    "name": "ipython",
    "version": 3
   },
   "file_extension": ".py",
   "mimetype": "text/x-python",
   "name": "python",
   "nbconvert_exporter": "python",
   "pygments_lexer": "ipython3",
   "version": "3.7.6"
  }
 },
 "nbformat": 4,
 "nbformat_minor": 4
}
